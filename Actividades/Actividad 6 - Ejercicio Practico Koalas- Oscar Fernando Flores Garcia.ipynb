{
 "cells": [
  {
   "cell_type": "markdown",
   "metadata": {},
   "source": [
    "# Ejercicio Práctico de Koalas"
   ]
  },
  {
   "cell_type": "code",
   "execution_count": 1,
   "metadata": {},
   "outputs": [
    {
     "name": "stderr",
     "output_type": "stream",
     "text": [
      "C:\\Spark\\spark-3.5.0-bin-hadoop3\\python\\pyspark\\pandas\\__init__.py:50: UserWarning: 'PYARROW_IGNORE_TIMEZONE' environment variable was not set. It is required to set this environment variable to '1' in both driver and executor sides if you use pyarrow>=2.0.0. pandas-on-Spark will set it for you but it does not work if there is a Spark context already launched.\n",
      "  warnings.warn(\n"
     ]
    }
   ],
   "source": [
    "import findspark\n",
    "findspark.init()\n",
    "\n",
    "import pandas as pd\n",
    "import pyspark\n",
    "from pyspark import pandas as ks"
   ]
  },
  {
   "cell_type": "code",
   "execution_count": 2,
   "metadata": {},
   "outputs": [],
   "source": [
    "import numpy as np\n",
    "import pandas as pd\n",
    "# import databricks.koalas as ks"
   ]
  },
  {
   "cell_type": "markdown",
   "metadata": {},
   "source": [
    "### Funciones básicas"
   ]
  },
  {
   "cell_type": "code",
   "execution_count": 3,
   "metadata": {},
   "outputs": [],
   "source": [
    "pser = pd.Series([1, 3, 5, np.nan, 6, 8]) \n",
    "\n",
    "## Crea una serie de Koalas con [1, 3, 5, np.nan, 6, 8]\n",
    "\n",
    "kser = ks.Series(pser)\n",
    "\n",
    "## Pasa la serie de pandas pser a Koalas con el nombre de kser"
   ]
  },
  {
   "cell_type": "code",
   "execution_count": 5,
   "metadata": {},
   "outputs": [
    {
     "data": {
      "text/plain": [
       "0    1.0\n",
       "1    3.0\n",
       "2    5.0\n",
       "3    NaN\n",
       "4    6.0\n",
       "5    8.0\n",
       "dtype: float64"
      ]
     },
     "execution_count": 5,
     "metadata": {},
     "output_type": "execute_result"
    }
   ],
   "source": [
    "## Ordena kser por el index\n",
    "kser.sort_index()\n",
    "kser"
   ]
  },
  {
   "cell_type": "code",
   "execution_count": 6,
   "metadata": {},
   "outputs": [
    {
     "data": {
      "text/html": [
       "<div>\n",
       "<style scoped>\n",
       "    .dataframe tbody tr th:only-of-type {\n",
       "        vertical-align: middle;\n",
       "    }\n",
       "\n",
       "    .dataframe tbody tr th {\n",
       "        vertical-align: top;\n",
       "    }\n",
       "\n",
       "    .dataframe thead th {\n",
       "        text-align: right;\n",
       "    }\n",
       "</style>\n",
       "<table border=\"1\" class=\"dataframe\">\n",
       "  <thead>\n",
       "    <tr style=\"text-align: right;\">\n",
       "      <th></th>\n",
       "      <th>A</th>\n",
       "      <th>B</th>\n",
       "    </tr>\n",
       "  </thead>\n",
       "  <tbody>\n",
       "    <tr>\n",
       "      <th>0</th>\n",
       "      <td>0.168088</td>\n",
       "      <td>0.103280</td>\n",
       "    </tr>\n",
       "    <tr>\n",
       "      <th>1</th>\n",
       "      <td>0.440777</td>\n",
       "      <td>0.669950</td>\n",
       "    </tr>\n",
       "    <tr>\n",
       "      <th>2</th>\n",
       "      <td>0.056192</td>\n",
       "      <td>0.784844</td>\n",
       "    </tr>\n",
       "    <tr>\n",
       "      <th>3</th>\n",
       "      <td>0.124339</td>\n",
       "      <td>0.023440</td>\n",
       "    </tr>\n",
       "    <tr>\n",
       "      <th>4</th>\n",
       "      <td>0.793665</td>\n",
       "      <td>0.900751</td>\n",
       "    </tr>\n",
       "  </tbody>\n",
       "</table>\n",
       "</div>"
      ],
      "text/plain": [
       "          A         B\n",
       "0  0.168088  0.103280\n",
       "1  0.440777  0.669950\n",
       "2  0.056192  0.784844\n",
       "3  0.124339  0.023440\n",
       "4  0.793665  0.900751"
      ]
     },
     "execution_count": 6,
     "metadata": {},
     "output_type": "execute_result"
    }
   ],
   "source": [
    "pdf = pd.DataFrame({'A': np.random.rand(5),\n",
    "                    'B': np.random.rand(5)})\n",
    "\n",
    "## Genera un Dataframe de Koalas con el pdf de pandas y llamalo kdf\n",
    "kdf = ks.from_pandas(pdf)\n",
    "pdf\n"
   ]
  },
  {
   "cell_type": "markdown",
   "metadata": {},
   "source": [
    "### Visualización de datos"
   ]
  },
  {
   "cell_type": "code",
   "execution_count": 7,
   "metadata": {},
   "outputs": [
    {
     "data": {
      "text/html": [
       "<div>\n",
       "<style scoped>\n",
       "    .dataframe tbody tr th:only-of-type {\n",
       "        vertical-align: middle;\n",
       "    }\n",
       "\n",
       "    .dataframe tbody tr th {\n",
       "        vertical-align: top;\n",
       "    }\n",
       "\n",
       "    .dataframe thead th {\n",
       "        text-align: right;\n",
       "    }\n",
       "</style>\n",
       "<table border=\"1\" class=\"dataframe\">\n",
       "  <thead>\n",
       "    <tr style=\"text-align: right;\">\n",
       "      <th></th>\n",
       "      <th>A</th>\n",
       "      <th>B</th>\n",
       "    </tr>\n",
       "  </thead>\n",
       "  <tbody>\n",
       "    <tr>\n",
       "      <th>count</th>\n",
       "      <td>5.000000</td>\n",
       "      <td>5.000000</td>\n",
       "    </tr>\n",
       "    <tr>\n",
       "      <th>mean</th>\n",
       "      <td>0.316612</td>\n",
       "      <td>0.496453</td>\n",
       "    </tr>\n",
       "    <tr>\n",
       "      <th>std</th>\n",
       "      <td>0.304074</td>\n",
       "      <td>0.404677</td>\n",
       "    </tr>\n",
       "    <tr>\n",
       "      <th>min</th>\n",
       "      <td>0.056192</td>\n",
       "      <td>0.023440</td>\n",
       "    </tr>\n",
       "    <tr>\n",
       "      <th>25%</th>\n",
       "      <td>0.124339</td>\n",
       "      <td>0.103280</td>\n",
       "    </tr>\n",
       "    <tr>\n",
       "      <th>50%</th>\n",
       "      <td>0.168088</td>\n",
       "      <td>0.669950</td>\n",
       "    </tr>\n",
       "    <tr>\n",
       "      <th>75%</th>\n",
       "      <td>0.440777</td>\n",
       "      <td>0.784844</td>\n",
       "    </tr>\n",
       "    <tr>\n",
       "      <th>max</th>\n",
       "      <td>0.793665</td>\n",
       "      <td>0.900751</td>\n",
       "    </tr>\n",
       "  </tbody>\n",
       "</table>\n",
       "</div>"
      ],
      "text/plain": [
       "              A         B\n",
       "count  5.000000  5.000000\n",
       "mean   0.316612  0.496453\n",
       "std    0.304074  0.404677\n",
       "min    0.056192  0.023440\n",
       "25%    0.124339  0.103280\n",
       "50%    0.168088  0.669950\n",
       "75%    0.440777  0.784844\n",
       "max    0.793665  0.900751"
      ]
     },
     "execution_count": 7,
     "metadata": {},
     "output_type": "execute_result"
    }
   ],
   "source": [
    "## Describe los datos de kdf\n",
    "kdf.describe()"
   ]
  },
  {
   "cell_type": "code",
   "execution_count": 8,
   "metadata": {
    "scrolled": true
   },
   "outputs": [
    {
     "data": {
      "text/html": [
       "<div>\n",
       "<style scoped>\n",
       "    .dataframe tbody tr th:only-of-type {\n",
       "        vertical-align: middle;\n",
       "    }\n",
       "\n",
       "    .dataframe tbody tr th {\n",
       "        vertical-align: top;\n",
       "    }\n",
       "\n",
       "    .dataframe thead th {\n",
       "        text-align: right;\n",
       "    }\n",
       "</style>\n",
       "<table border=\"1\" class=\"dataframe\">\n",
       "  <thead>\n",
       "    <tr style=\"text-align: right;\">\n",
       "      <th></th>\n",
       "      <th>A</th>\n",
       "      <th>B</th>\n",
       "    </tr>\n",
       "  </thead>\n",
       "  <tbody>\n",
       "    <tr>\n",
       "      <th>3</th>\n",
       "      <td>0.124339</td>\n",
       "      <td>0.023440</td>\n",
       "    </tr>\n",
       "    <tr>\n",
       "      <th>0</th>\n",
       "      <td>0.168088</td>\n",
       "      <td>0.103280</td>\n",
       "    </tr>\n",
       "    <tr>\n",
       "      <th>1</th>\n",
       "      <td>0.440777</td>\n",
       "      <td>0.669950</td>\n",
       "    </tr>\n",
       "    <tr>\n",
       "      <th>2</th>\n",
       "      <td>0.056192</td>\n",
       "      <td>0.784844</td>\n",
       "    </tr>\n",
       "    <tr>\n",
       "      <th>4</th>\n",
       "      <td>0.793665</td>\n",
       "      <td>0.900751</td>\n",
       "    </tr>\n",
       "  </tbody>\n",
       "</table>\n",
       "</div>"
      ],
      "text/plain": [
       "          A         B\n",
       "3  0.124339  0.023440\n",
       "0  0.168088  0.103280\n",
       "1  0.440777  0.669950\n",
       "2  0.056192  0.784844\n",
       "4  0.793665  0.900751"
      ]
     },
     "execution_count": 8,
     "metadata": {},
     "output_type": "execute_result"
    }
   ],
   "source": [
    "## Ordena los datos de kdf por la columna B\n",
    "kdf.sort_values(by='B')"
   ]
  },
  {
   "cell_type": "code",
   "execution_count": 10,
   "metadata": {},
   "outputs": [
    {
     "data": {
      "text/html": [
       "<div>\n",
       "<style scoped>\n",
       "    .dataframe tbody tr th:only-of-type {\n",
       "        vertical-align: middle;\n",
       "    }\n",
       "\n",
       "    .dataframe tbody tr th {\n",
       "        vertical-align: top;\n",
       "    }\n",
       "\n",
       "    .dataframe thead th {\n",
       "        text-align: right;\n",
       "    }\n",
       "</style>\n",
       "<table border=\"1\" class=\"dataframe\">\n",
       "  <thead>\n",
       "    <tr style=\"text-align: right;\">\n",
       "      <th></th>\n",
       "      <th>0</th>\n",
       "      <th>1</th>\n",
       "      <th>2</th>\n",
       "      <th>3</th>\n",
       "      <th>4</th>\n",
       "    </tr>\n",
       "  </thead>\n",
       "  <tbody>\n",
       "    <tr>\n",
       "      <th>A</th>\n",
       "      <td>0.168088</td>\n",
       "      <td>0.440777</td>\n",
       "      <td>0.056192</td>\n",
       "      <td>0.124339</td>\n",
       "      <td>0.793665</td>\n",
       "    </tr>\n",
       "    <tr>\n",
       "      <th>B</th>\n",
       "      <td>0.103280</td>\n",
       "      <td>0.669950</td>\n",
       "      <td>0.784844</td>\n",
       "      <td>0.023440</td>\n",
       "      <td>0.900751</td>\n",
       "    </tr>\n",
       "  </tbody>\n",
       "</table>\n",
       "</div>"
      ],
      "text/plain": [
       "          0         1         2         3         4\n",
       "A  0.168088  0.440777  0.056192  0.124339  0.793665\n",
       "B  0.103280  0.669950  0.784844  0.023440  0.900751"
      ]
     },
     "execution_count": 10,
     "metadata": {},
     "output_type": "execute_result"
    }
   ],
   "source": [
    "## Transpon los datos de kdf\n",
    "kdf.T\n"
   ]
  },
  {
   "cell_type": "markdown",
   "metadata": {},
   "source": [
    "### Selección"
   ]
  },
  {
   "cell_type": "code",
   "execution_count": 15,
   "metadata": {},
   "outputs": [
    {
     "name": "stdout",
     "output_type": "stream",
     "text": [
      "0    0.168088\n",
      "1    0.440777\n",
      "2    0.056192\n",
      "3    0.124339\n",
      "4    0.793665\n",
      "Name: A, dtype: float64\n",
      "0    0.103280\n",
      "1    0.669950\n",
      "2    0.784844\n",
      "3    0.023440\n",
      "4    0.900751\n",
      "Name: B, dtype: float64\n"
     ]
    }
   ],
   "source": [
    "## Selecciona las varaibles A y B de Kdf\n",
    "A = kdf.loc[:, \"A\"]\n",
    "B = kdf.loc[:, \"B\"]\n",
    "print(A)\n",
    "print(B)"
   ]
  },
  {
   "cell_type": "code",
   "execution_count": 17,
   "metadata": {
    "scrolled": false
   },
   "outputs": [
    {
     "data": {
      "text/html": [
       "<div>\n",
       "<style scoped>\n",
       "    .dataframe tbody tr th:only-of-type {\n",
       "        vertical-align: middle;\n",
       "    }\n",
       "\n",
       "    .dataframe tbody tr th {\n",
       "        vertical-align: top;\n",
       "    }\n",
       "\n",
       "    .dataframe thead th {\n",
       "        text-align: right;\n",
       "    }\n",
       "</style>\n",
       "<table border=\"1\" class=\"dataframe\">\n",
       "  <thead>\n",
       "    <tr style=\"text-align: right;\">\n",
       "      <th></th>\n",
       "      <th>A</th>\n",
       "      <th>B</th>\n",
       "    </tr>\n",
       "  </thead>\n",
       "  <tbody>\n",
       "    <tr>\n",
       "      <th>1</th>\n",
       "      <td>0.440777</td>\n",
       "      <td>0.669950</td>\n",
       "    </tr>\n",
       "    <tr>\n",
       "      <th>2</th>\n",
       "      <td>0.056192</td>\n",
       "      <td>0.784844</td>\n",
       "    </tr>\n",
       "  </tbody>\n",
       "</table>\n",
       "</div>"
      ],
      "text/plain": [
       "          A         B\n",
       "1  0.440777  0.669950\n",
       "2  0.056192  0.784844"
      ]
     },
     "execution_count": 17,
     "metadata": {},
     "output_type": "execute_result"
    }
   ],
   "source": [
    "## Selecciona las filas 1, 2 de kdf\n",
    "kdf[1:3]"
   ]
  },
  {
   "cell_type": "code",
   "execution_count": 19,
   "metadata": {
    "scrolled": false
   },
   "outputs": [
    {
     "data": {
      "text/plain": [
       "0    0.103280\n",
       "1    0.669950\n",
       "2    0.784844\n",
       "3    0.023440\n",
       "Name: B, dtype: float64"
      ]
     },
     "execution_count": 19,
     "metadata": {},
     "output_type": "execute_result"
    }
   ],
   "source": [
    "## Selecciona las filas 0, 1 y 2 de la variable B\n",
    "kdf.loc[:3, \"B\"]"
   ]
  },
  {
   "cell_type": "markdown",
   "metadata": {},
   "source": [
    "### Aplicando funciones de Python a Koalas"
   ]
  },
  {
   "cell_type": "code",
   "execution_count": 21,
   "metadata": {},
   "outputs": [
    {
     "data": {
      "text/html": [
       "<div>\n",
       "<style scoped>\n",
       "    .dataframe tbody tr th:only-of-type {\n",
       "        vertical-align: middle;\n",
       "    }\n",
       "\n",
       "    .dataframe tbody tr th {\n",
       "        vertical-align: top;\n",
       "    }\n",
       "\n",
       "    .dataframe thead th {\n",
       "        text-align: right;\n",
       "    }\n",
       "</style>\n",
       "<table border=\"1\" class=\"dataframe\">\n",
       "  <thead>\n",
       "    <tr style=\"text-align: right;\">\n",
       "      <th></th>\n",
       "      <th>A</th>\n",
       "      <th>B</th>\n",
       "    </tr>\n",
       "  </thead>\n",
       "  <tbody>\n",
       "    <tr>\n",
       "      <th>0</th>\n",
       "      <td>0.168088</td>\n",
       "      <td>0.103280</td>\n",
       "    </tr>\n",
       "    <tr>\n",
       "      <th>1</th>\n",
       "      <td>0.608865</td>\n",
       "      <td>0.773230</td>\n",
       "    </tr>\n",
       "    <tr>\n",
       "      <th>2</th>\n",
       "      <td>0.665057</td>\n",
       "      <td>1.558073</td>\n",
       "    </tr>\n",
       "    <tr>\n",
       "      <th>3</th>\n",
       "      <td>0.789397</td>\n",
       "      <td>1.581514</td>\n",
       "    </tr>\n",
       "    <tr>\n",
       "      <th>4</th>\n",
       "      <td>1.583062</td>\n",
       "      <td>2.482265</td>\n",
       "    </tr>\n",
       "  </tbody>\n",
       "</table>\n",
       "</div>"
      ],
      "text/plain": [
       "          A         B\n",
       "0  0.168088  0.103280\n",
       "1  0.608865  0.773230\n",
       "2  0.665057  1.558073\n",
       "3  0.789397  1.581514\n",
       "4  1.583062  2.482265"
      ]
     },
     "execution_count": 21,
     "metadata": {},
     "output_type": "execute_result"
    }
   ],
   "source": [
    "## Aplica la funcion de Python de np.cumsum a kdf\n",
    "# np.cumsum(kdf)\n",
    "kdf.cumsum()"
   ]
  },
  {
   "cell_type": "code",
   "execution_count": 22,
   "metadata": {},
   "outputs": [
    {
     "data": {
      "text/html": [
       "<div>\n",
       "<style scoped>\n",
       "    .dataframe tbody tr th:only-of-type {\n",
       "        vertical-align: middle;\n",
       "    }\n",
       "\n",
       "    .dataframe tbody tr th {\n",
       "        vertical-align: top;\n",
       "    }\n",
       "\n",
       "    .dataframe thead th {\n",
       "        text-align: right;\n",
       "    }\n",
       "</style>\n",
       "<table border=\"1\" class=\"dataframe\">\n",
       "  <thead>\n",
       "    <tr style=\"text-align: right;\">\n",
       "      <th></th>\n",
       "      <th>A</th>\n",
       "      <th>B</th>\n",
       "    </tr>\n",
       "  </thead>\n",
       "  <tbody>\n",
       "    <tr>\n",
       "      <th>0</th>\n",
       "      <td>0.028254</td>\n",
       "      <td>0.010667</td>\n",
       "    </tr>\n",
       "    <tr>\n",
       "      <th>1</th>\n",
       "      <td>0.194285</td>\n",
       "      <td>0.448834</td>\n",
       "    </tr>\n",
       "    <tr>\n",
       "      <th>2</th>\n",
       "      <td>0.003158</td>\n",
       "      <td>0.615979</td>\n",
       "    </tr>\n",
       "    <tr>\n",
       "      <th>3</th>\n",
       "      <td>0.015460</td>\n",
       "      <td>0.000549</td>\n",
       "    </tr>\n",
       "    <tr>\n",
       "      <th>4</th>\n",
       "      <td>0.629904</td>\n",
       "      <td>0.811353</td>\n",
       "    </tr>\n",
       "  </tbody>\n",
       "</table>\n",
       "</div>"
      ],
      "text/plain": [
       "          A         B\n",
       "0  0.028254  0.010667\n",
       "1  0.194285  0.448834\n",
       "2  0.003158  0.615979\n",
       "3  0.015460  0.000549\n",
       "4  0.629904  0.811353"
      ]
     },
     "execution_count": 22,
     "metadata": {},
     "output_type": "execute_result"
    }
   ],
   "source": [
    "## Eleva al cuadrado los valores de kdf\n",
    "kdf.pow(2)"
   ]
  },
  {
   "cell_type": "markdown",
   "metadata": {},
   "source": [
    "### Agrupando datos"
   ]
  },
  {
   "cell_type": "code",
   "execution_count": 23,
   "metadata": {},
   "outputs": [
    {
     "name": "stderr",
     "output_type": "stream",
     "text": [
      "C:\\Spark\\spark-3.5.0-bin-hadoop3\\python\\pyspark\\pandas\\groupby.py:893: FutureWarning: Default value of `numeric_only` will be changed to `False` instead of `True` in 4.0.0.\n",
      "  warnings.warn(\n"
     ]
    },
    {
     "data": {
      "text/html": [
       "<div>\n",
       "<style scoped>\n",
       "    .dataframe tbody tr th:only-of-type {\n",
       "        vertical-align: middle;\n",
       "    }\n",
       "\n",
       "    .dataframe tbody tr th {\n",
       "        vertical-align: top;\n",
       "    }\n",
       "\n",
       "    .dataframe thead th {\n",
       "        text-align: right;\n",
       "    }\n",
       "</style>\n",
       "<table border=\"1\" class=\"dataframe\">\n",
       "  <thead>\n",
       "    <tr style=\"text-align: right;\">\n",
       "      <th></th>\n",
       "      <th></th>\n",
       "    </tr>\n",
       "    <tr>\n",
       "      <th>A</th>\n",
       "      <th>B</th>\n",
       "    </tr>\n",
       "  </thead>\n",
       "  <tbody>\n",
       "    <tr>\n",
       "      <th>0.168088</th>\n",
       "      <th>0.103280</th>\n",
       "    </tr>\n",
       "    <tr>\n",
       "      <th>0.440777</th>\n",
       "      <th>0.669950</th>\n",
       "    </tr>\n",
       "    <tr>\n",
       "      <th>0.056192</th>\n",
       "      <th>0.784844</th>\n",
       "    </tr>\n",
       "    <tr>\n",
       "      <th>0.124339</th>\n",
       "      <th>0.023440</th>\n",
       "    </tr>\n",
       "    <tr>\n",
       "      <th>0.793665</th>\n",
       "      <th>0.900751</th>\n",
       "    </tr>\n",
       "  </tbody>\n",
       "</table>\n",
       "</div>"
      ],
      "text/plain": [
       "Empty DataFrame\n",
       "Columns: []\n",
       "Index: [(0.1680879529579704, 0.10327953671560075), (0.4407773819399867, 0.6699504407133684), (0.05619204779125153, 0.7848435162184064), (0.12433943101180356, 0.023440441549918756), (0.793664816203185, 0.9007512869511063)]"
      ]
     },
     "execution_count": 23,
     "metadata": {},
     "output_type": "execute_result"
    }
   ],
   "source": [
    "## Obten la suma de los valores al agrupar por A y por B\n",
    "kdf.groupby(['A', 'B']).sum()"
   ]
  },
  {
   "cell_type": "markdown",
   "metadata": {},
   "source": [
    "### Generando gráficos"
   ]
  },
  {
   "cell_type": "code",
   "execution_count": 106,
   "metadata": {},
   "outputs": [],
   "source": [
    "# This is needed for visualizing plot on notebook\n",
    "%matplotlib inline"
   ]
  },
  {
   "cell_type": "code",
   "execution_count": 29,
   "metadata": {},
   "outputs": [
    {
     "data": {
      "text/plain": [
       "<Axes: >"
      ]
     },
     "execution_count": 29,
     "metadata": {},
     "output_type": "execute_result"
    },
    {
     "data": {
      "image/png": "[encoded data removed]",
      "text/plain": [
       "<Figure size 640x480 with 1 Axes>"
      ]
     },
     "metadata": {},
     "output_type": "display_data"
    }
   ],
   "source": [
    "speed = [0.1, 17.5, 40, 48, 52, 69, 88]\n",
    "lifespan = [2, 8, 70, 1.5, 25, 12, 28]\n",
    "index = ['snail', 'pig', 'elephant',\n",
    "         'rabbit', 'giraffe', 'coyote', 'horse']\n",
    "\n",
    "kdf = ks.DataFrame({'speed': speed,\n",
    "                   'lifespan': lifespan}, index=index)\n",
    "\n",
    "## Genera un grafico de barras con kdf y matplotlib\n",
    "ks.options.plotting.backend = \"matplotlib\"\n",
    "\n",
    "kdf.loc[:, \"speed\"].plot()"
   ]
  },
  {
   "cell_type": "code",
   "execution_count": 31,
   "metadata": {
    "scrolled": true
   },
   "outputs": [
    {
     "name": "stderr",
     "output_type": "stream",
     "text": [
      "C:\\Spark\\spark-3.5.0-bin-hadoop3\\python\\pyspark\\pandas\\plot\\matplotlib.py:859: FutureWarning: Argument `sort_columns` will be removed in 4.0.0.\n",
      "  warnings.warn(\n"
     ]
    },
    {
     "ename": "AttributeError",
     "evalue": "Line2D.set() got an unexpected keyword argument 'sort_columns'",
     "output_type": "error",
     "traceback": [
      "\u001b[1;31m---------------------------------------------------------------------------\u001b[0m",
      "\u001b[1;31mAttributeError\u001b[0m                            Traceback (most recent call last)",
      "\u001b[1;32mc:\\Users\\ferna\\Documents\\MCD\\Semestre I\\Procesamiento de Grandes Bases de Datos\\7. Notebebooks\\3. API Koalas\\Ejercicio práctico_Koalas.ipynb Cell 24\u001b[0m line \u001b[0;36m9\n\u001b[0;32m      <a href='vscode-notebook-cell:/c%3A/Users/ferna/Documents/MCD/Semestre%20I/Procesamiento%20de%20Grandes%20Bases%20de%20Datos/7.%20Notebebooks/3.%20API%20Koalas/Ejercicio%20pr%C3%A1ctico_Koalas.ipynb#X32sZmlsZQ%3D%3D?line=6'>7</a>\u001b[0m ks\u001b[39m.\u001b[39moptions\u001b[39m.\u001b[39mplotting\u001b[39m.\u001b[39mbackend \u001b[39m=\u001b[39m \u001b[39m\"\u001b[39m\u001b[39mmatplotlib\u001b[39m\u001b[39m\"\u001b[39m\n\u001b[0;32m      <a href='vscode-notebook-cell:/c%3A/Users/ferna/Documents/MCD/Semestre%20I/Procesamiento%20de%20Grandes%20Bases%20de%20Datos/7.%20Notebebooks/3.%20API%20Koalas/Ejercicio%20pr%C3%A1ctico_Koalas.ipynb#X32sZmlsZQ%3D%3D?line=7'>8</a>\u001b[0m \u001b[39m## Genera un grafico de areas con kdf y matplotlib\u001b[39;00m\n\u001b[1;32m----> <a href='vscode-notebook-cell:/c%3A/Users/ferna/Documents/MCD/Semestre%20I/Procesamiento%20de%20Grandes%20Bases%20de%20Datos/7.%20Notebebooks/3.%20API%20Koalas/Ejercicio%20pr%C3%A1ctico_Koalas.ipynb#X32sZmlsZQ%3D%3D?line=8'>9</a>\u001b[0m kdf\u001b[39m.\u001b[39;49mplot\u001b[39m.\u001b[39;49marea()\n",
      "File \u001b[1;32mC:\\Spark\\spark-3.5.0-bin-hadoop3\\python\\pyspark\\pandas\\plot\\core.py:1086\u001b[0m, in \u001b[0;36mPandasOnSparkPlotAccessor.area\u001b[1;34m(self, x, y, **kwds)\u001b[0m\n\u001b[0;32m   1084\u001b[0m     \u001b[39mreturn\u001b[39;00m \u001b[39mself\u001b[39m(kind\u001b[39m=\u001b[39m\u001b[39m\"\u001b[39m\u001b[39marea\u001b[39m\u001b[39m\"\u001b[39m, \u001b[39m*\u001b[39m\u001b[39m*\u001b[39mkwds)\n\u001b[0;32m   1085\u001b[0m \u001b[39melif\u001b[39;00m \u001b[39misinstance\u001b[39m(\u001b[39mself\u001b[39m\u001b[39m.\u001b[39mdata, DataFrame):\n\u001b[1;32m-> 1086\u001b[0m     \u001b[39mreturn\u001b[39;00m \u001b[39mself\u001b[39;49m(kind\u001b[39m=\u001b[39;49m\u001b[39m\"\u001b[39;49m\u001b[39marea\u001b[39;49m\u001b[39m\"\u001b[39;49m, x\u001b[39m=\u001b[39;49mx, y\u001b[39m=\u001b[39;49my, \u001b[39m*\u001b[39;49m\u001b[39m*\u001b[39;49mkwds)\n",
      "File \u001b[1;32mC:\\Spark\\spark-3.5.0-bin-hadoop3\\python\\pyspark\\pandas\\plot\\core.py:578\u001b[0m, in \u001b[0;36mPandasOnSparkPlotAccessor.__call__\u001b[1;34m(self, kind, backend, **kwargs)\u001b[0m\n\u001b[0;32m    575\u001b[0m kind \u001b[39m=\u001b[39m {\u001b[39m\"\u001b[39m\u001b[39mdensity\u001b[39m\u001b[39m\"\u001b[39m: \u001b[39m\"\u001b[39m\u001b[39mkde\u001b[39m\u001b[39m\"\u001b[39m}\u001b[39m.\u001b[39mget(kind, kind)\n\u001b[0;32m    576\u001b[0m \u001b[39mif\u001b[39;00m \u001b[39mhasattr\u001b[39m(plot_backend, \u001b[39m\"\u001b[39m\u001b[39mplot_pandas_on_spark\u001b[39m\u001b[39m\"\u001b[39m):\n\u001b[0;32m    577\u001b[0m     \u001b[39m# use if there's pandas-on-Spark specific method.\u001b[39;00m\n\u001b[1;32m--> 578\u001b[0m     \u001b[39mreturn\u001b[39;00m plot_backend\u001b[39m.\u001b[39;49mplot_pandas_on_spark(plot_data, kind\u001b[39m=\u001b[39;49mkind, \u001b[39m*\u001b[39;49m\u001b[39m*\u001b[39;49mkwargs)\n\u001b[0;32m    579\u001b[0m \u001b[39melse\u001b[39;00m:\n\u001b[0;32m    580\u001b[0m     \u001b[39m# fallback to use pandas'\u001b[39;00m\n\u001b[0;32m    581\u001b[0m     \u001b[39mif\u001b[39;00m \u001b[39mnot\u001b[39;00m PandasOnSparkPlotAccessor\u001b[39m.\u001b[39mpandas_plot_data_map[kind]:\n",
      "File \u001b[1;32mC:\\Spark\\spark-3.5.0-bin-hadoop3\\python\\pyspark\\pandas\\plot\\matplotlib.py:563\u001b[0m, in \u001b[0;36mplot_pandas_on_spark\u001b[1;34m(data, kind, **kwargs)\u001b[0m\n\u001b[0;32m    561\u001b[0m \u001b[39mif\u001b[39;00m kind \u001b[39mnot\u001b[39;00m \u001b[39min\u001b[39;00m _dataframe_kinds:\n\u001b[0;32m    562\u001b[0m     \u001b[39mreturn\u001b[39;00m unsupported_function(class_name\u001b[39m=\u001b[39m\u001b[39m\"\u001b[39m\u001b[39mpd.DataFrame\u001b[39m\u001b[39m\"\u001b[39m, method_name\u001b[39m=\u001b[39mkind)()\n\u001b[1;32m--> 563\u001b[0m \u001b[39mreturn\u001b[39;00m plot_frame(data\u001b[39m=\u001b[39;49mdata, kind\u001b[39m=\u001b[39;49mkind, \u001b[39m*\u001b[39;49m\u001b[39m*\u001b[39;49mkwargs)\n",
      "File \u001b[1;32mC:\\Spark\\spark-3.5.0-bin-hadoop3\\python\\pyspark\\pandas\\plot\\matplotlib.py:864\u001b[0m, in \u001b[0;36mplot_frame\u001b[1;34m(data, x, y, kind, ax, subplots, sharex, sharey, layout, figsize, use_index, title, grid, legend, style, logx, logy, loglog, xticks, yticks, xlim, ylim, rot, fontsize, colormap, table, yerr, xerr, secondary_y, sort_columns, **kwds)\u001b[0m\n\u001b[0;32m    756\u001b[0m \u001b[39m\u001b[39m\u001b[39m\"\"\"\u001b[39;00m\n\u001b[0;32m    757\u001b[0m \u001b[39mMake plots of DataFrames using matplotlib / pylab.\u001b[39;00m\n\u001b[0;32m    758\u001b[0m \n\u001b[1;32m   (...)\u001b[0m\n\u001b[0;32m    857\u001b[0m \u001b[39m  From 0 (left/bottom-end) to 1 (right/top-end). Default is 0.5 (center)\u001b[39;00m\n\u001b[0;32m    858\u001b[0m \u001b[39m\"\"\"\u001b[39;00m\n\u001b[0;32m    859\u001b[0m warnings\u001b[39m.\u001b[39mwarn(\n\u001b[0;32m    860\u001b[0m     \u001b[39m\"\u001b[39m\u001b[39mArgument `sort_columns` will be removed in 4.0.0.\u001b[39m\u001b[39m\"\u001b[39m,\n\u001b[0;32m    861\u001b[0m     \u001b[39mFutureWarning\u001b[39;00m,\n\u001b[0;32m    862\u001b[0m )\n\u001b[1;32m--> 864\u001b[0m \u001b[39mreturn\u001b[39;00m _plot(\n\u001b[0;32m    865\u001b[0m     data,\n\u001b[0;32m    866\u001b[0m     kind\u001b[39m=\u001b[39;49mkind,\n\u001b[0;32m    867\u001b[0m     x\u001b[39m=\u001b[39;49mx,\n\u001b[0;32m    868\u001b[0m     y\u001b[39m=\u001b[39;49my,\n\u001b[0;32m    869\u001b[0m     ax\u001b[39m=\u001b[39;49max,\n\u001b[0;32m    870\u001b[0m     figsize\u001b[39m=\u001b[39;49mfigsize,\n\u001b[0;32m    871\u001b[0m     use_index\u001b[39m=\u001b[39;49muse_index,\n\u001b[0;32m    872\u001b[0m     title\u001b[39m=\u001b[39;49mtitle,\n\u001b[0;32m    873\u001b[0m     grid\u001b[39m=\u001b[39;49mgrid,\n\u001b[0;32m    874\u001b[0m     legend\u001b[39m=\u001b[39;49mlegend,\n\u001b[0;32m    875\u001b[0m     subplots\u001b[39m=\u001b[39;49msubplots,\n\u001b[0;32m    876\u001b[0m     style\u001b[39m=\u001b[39;49mstyle,\n\u001b[0;32m    877\u001b[0m     logx\u001b[39m=\u001b[39;49mlogx,\n\u001b[0;32m    878\u001b[0m     logy\u001b[39m=\u001b[39;49mlogy,\n\u001b[0;32m    879\u001b[0m     loglog\u001b[39m=\u001b[39;49mloglog,\n\u001b[0;32m    880\u001b[0m     xticks\u001b[39m=\u001b[39;49mxticks,\n\u001b[0;32m    881\u001b[0m     yticks\u001b[39m=\u001b[39;49myticks,\n\u001b[0;32m    882\u001b[0m     xlim\u001b[39m=\u001b[39;49mxlim,\n\u001b[0;32m    883\u001b[0m     ylim\u001b[39m=\u001b[39;49mylim,\n\u001b[0;32m    884\u001b[0m     rot\u001b[39m=\u001b[39;49mrot,\n\u001b[0;32m    885\u001b[0m     fontsize\u001b[39m=\u001b[39;49mfontsize,\n\u001b[0;32m    886\u001b[0m     colormap\u001b[39m=\u001b[39;49mcolormap,\n\u001b[0;32m    887\u001b[0m     table\u001b[39m=\u001b[39;49mtable,\n\u001b[0;32m    888\u001b[0m     yerr\u001b[39m=\u001b[39;49myerr,\n\u001b[0;32m    889\u001b[0m     xerr\u001b[39m=\u001b[39;49mxerr,\n\u001b[0;32m    890\u001b[0m     sharex\u001b[39m=\u001b[39;49msharex,\n\u001b[0;32m    891\u001b[0m     sharey\u001b[39m=\u001b[39;49msharey,\n\u001b[0;32m    892\u001b[0m     secondary_y\u001b[39m=\u001b[39;49msecondary_y,\n\u001b[0;32m    893\u001b[0m     layout\u001b[39m=\u001b[39;49mlayout,\n\u001b[0;32m    894\u001b[0m     sort_columns\u001b[39m=\u001b[39;49msort_columns,\n\u001b[0;32m    895\u001b[0m     \u001b[39m*\u001b[39;49m\u001b[39m*\u001b[39;49mkwds,\n\u001b[0;32m    896\u001b[0m )\n",
      "File \u001b[1;32mC:\\Spark\\spark-3.5.0-bin-hadoop3\\python\\pyspark\\pandas\\plot\\matplotlib.py:926\u001b[0m, in \u001b[0;36m_plot\u001b[1;34m(data, x, y, subplots, ax, kind, **kwds)\u001b[0m\n\u001b[0;32m    923\u001b[0m             data \u001b[39m=\u001b[39m data[y]\n\u001b[0;32m    925\u001b[0m     plot_obj \u001b[39m=\u001b[39m klass(data, subplots\u001b[39m=\u001b[39msubplots, ax\u001b[39m=\u001b[39max, kind\u001b[39m=\u001b[39mkind, \u001b[39m*\u001b[39m\u001b[39m*\u001b[39mkwds)\n\u001b[1;32m--> 926\u001b[0m plot_obj\u001b[39m.\u001b[39;49mgenerate()\n\u001b[0;32m    927\u001b[0m plot_obj\u001b[39m.\u001b[39mdraw()\n\u001b[0;32m    928\u001b[0m \u001b[39mreturn\u001b[39;00m plot_obj\u001b[39m.\u001b[39mresult\n",
      "File \u001b[1;32mc:\\Users\\ferna\\.conda\\envs\\bigdata-38\\lib\\site-packages\\pandas\\plotting\\_matplotlib\\core.py:448\u001b[0m, in \u001b[0;36mMPLPlot.generate\u001b[1;34m(self)\u001b[0m\n\u001b[0;32m    446\u001b[0m \u001b[39mself\u001b[39m\u001b[39m.\u001b[39m_compute_plot_data()\n\u001b[0;32m    447\u001b[0m \u001b[39mself\u001b[39m\u001b[39m.\u001b[39m_setup_subplots()\n\u001b[1;32m--> 448\u001b[0m \u001b[39mself\u001b[39;49m\u001b[39m.\u001b[39;49m_make_plot()\n\u001b[0;32m    449\u001b[0m \u001b[39mself\u001b[39m\u001b[39m.\u001b[39m_add_table()\n\u001b[0;32m    450\u001b[0m \u001b[39mself\u001b[39m\u001b[39m.\u001b[39m_make_legend()\n",
      "File \u001b[1;32mC:\\Spark\\spark-3.5.0-bin-hadoop3\\python\\pyspark\\pandas\\plot\\matplotlib.py:441\u001b[0m, in \u001b[0;36mPandasOnSparkAreaPlot._make_plot\u001b[1;34m(self)\u001b[0m\n\u001b[0;32m    439\u001b[0m \u001b[39mdef\u001b[39;00m \u001b[39m_make_plot\u001b[39m(\u001b[39mself\u001b[39m):\n\u001b[0;32m    440\u001b[0m     \u001b[39mself\u001b[39m\u001b[39m.\u001b[39mset_result_text(\u001b[39mself\u001b[39m\u001b[39m.\u001b[39m_get_ax(\u001b[39m0\u001b[39m))\n\u001b[1;32m--> 441\u001b[0m     \u001b[39msuper\u001b[39;49m()\u001b[39m.\u001b[39;49m_make_plot()\n",
      "File \u001b[1;32mc:\\Users\\ferna\\.conda\\envs\\bigdata-38\\lib\\site-packages\\pandas\\plotting\\_matplotlib\\core.py:1384\u001b[0m, in \u001b[0;36mLinePlot._make_plot\u001b[1;34m(self)\u001b[0m\n\u001b[0;32m   1381\u001b[0m label \u001b[39m=\u001b[39m \u001b[39mself\u001b[39m\u001b[39m.\u001b[39m_mark_right_label(label, index\u001b[39m=\u001b[39mi)\n\u001b[0;32m   1382\u001b[0m kwds[\u001b[39m\"\u001b[39m\u001b[39mlabel\u001b[39m\u001b[39m\"\u001b[39m] \u001b[39m=\u001b[39m label\n\u001b[1;32m-> 1384\u001b[0m newlines \u001b[39m=\u001b[39m plotf(\n\u001b[0;32m   1385\u001b[0m     ax,\n\u001b[0;32m   1386\u001b[0m     x,\n\u001b[0;32m   1387\u001b[0m     y,\n\u001b[0;32m   1388\u001b[0m     style\u001b[39m=\u001b[39;49mstyle,\n\u001b[0;32m   1389\u001b[0m     column_num\u001b[39m=\u001b[39;49mi,\n\u001b[0;32m   1390\u001b[0m     stacking_id\u001b[39m=\u001b[39;49mstacking_id,\n\u001b[0;32m   1391\u001b[0m     is_errorbar\u001b[39m=\u001b[39;49mis_errorbar,\n\u001b[0;32m   1392\u001b[0m     \u001b[39m*\u001b[39;49m\u001b[39m*\u001b[39;49mkwds,\n\u001b[0;32m   1393\u001b[0m )\n\u001b[0;32m   1394\u001b[0m \u001b[39mself\u001b[39m\u001b[39m.\u001b[39m_append_legend_handles_labels(newlines[\u001b[39m0\u001b[39m], label)\n\u001b[0;32m   1396\u001b[0m \u001b[39mif\u001b[39;00m \u001b[39mself\u001b[39m\u001b[39m.\u001b[39m_is_ts_plot():\n\u001b[0;32m   1397\u001b[0m     \u001b[39m# reset of xlim should be used for ts data\u001b[39;00m\n\u001b[0;32m   1398\u001b[0m     \u001b[39m# TODO: GH28021, should find a way to change view limit on xaxis\u001b[39;00m\n",
      "File \u001b[1;32mc:\\Users\\ferna\\.conda\\envs\\bigdata-38\\lib\\site-packages\\pandas\\plotting\\_matplotlib\\core.py:1432\u001b[0m, in \u001b[0;36mLinePlot._ts_plot\u001b[1;34m(self, ax, x, data, style, **kwds)\u001b[0m\n\u001b[0;32m   1429\u001b[0m     decorate_axes(ax\u001b[39m.\u001b[39mright_ax, freq, kwds)\n\u001b[0;32m   1430\u001b[0m ax\u001b[39m.\u001b[39m_plot_data\u001b[39m.\u001b[39mappend((data, \u001b[39mself\u001b[39m\u001b[39m.\u001b[39m_kind, kwds))\n\u001b[1;32m-> 1432\u001b[0m lines \u001b[39m=\u001b[39m \u001b[39mself\u001b[39;49m\u001b[39m.\u001b[39;49m_plot(ax, data\u001b[39m.\u001b[39;49mindex, data\u001b[39m.\u001b[39;49mvalues, style\u001b[39m=\u001b[39;49mstyle, \u001b[39m*\u001b[39;49m\u001b[39m*\u001b[39;49mkwds)\n\u001b[0;32m   1433\u001b[0m \u001b[39m# set date formatter, locators and rescale limits\u001b[39;00m\n\u001b[0;32m   1434\u001b[0m format_dateaxis(ax, ax\u001b[39m.\u001b[39mfreq, data\u001b[39m.\u001b[39mindex)\n",
      "File \u001b[1;32mc:\\Users\\ferna\\.conda\\envs\\bigdata-38\\lib\\site-packages\\pandas\\plotting\\_matplotlib\\core.py:1563\u001b[0m, in \u001b[0;36mAreaPlot._plot\u001b[1;34m(cls, ax, x, y, style, column_num, stacking_id, is_errorbar, **kwds)\u001b[0m\n\u001b[0;32m   1561\u001b[0m line_kwds \u001b[39m=\u001b[39m kwds\u001b[39m.\u001b[39mcopy()\n\u001b[0;32m   1562\u001b[0m line_kwds\u001b[39m.\u001b[39mpop(\u001b[39m\"\u001b[39m\u001b[39mlabel\u001b[39m\u001b[39m\"\u001b[39m)\n\u001b[1;32m-> 1563\u001b[0m lines \u001b[39m=\u001b[39m MPLPlot\u001b[39m.\u001b[39;49m_plot(ax, x, y_values, style\u001b[39m=\u001b[39;49mstyle, \u001b[39m*\u001b[39;49m\u001b[39m*\u001b[39;49mline_kwds)\n\u001b[0;32m   1565\u001b[0m \u001b[39m# get data from the line to get coordinates for fill_between\u001b[39;00m\n\u001b[0;32m   1566\u001b[0m xdata, y_values \u001b[39m=\u001b[39m lines[\u001b[39m0\u001b[39m]\u001b[39m.\u001b[39mget_data(orig\u001b[39m=\u001b[39m\u001b[39mFalse\u001b[39;00m)\n",
      "File \u001b[1;32mc:\\Users\\ferna\\.conda\\envs\\bigdata-38\\lib\\site-packages\\pandas\\plotting\\_matplotlib\\converter.py:96\u001b[0m, in \u001b[0;36mregister_pandas_matplotlib_converters.<locals>.wrapper\u001b[1;34m(*args, **kwargs)\u001b[0m\n\u001b[0;32m     93\u001b[0m \u001b[39m@functools\u001b[39m\u001b[39m.\u001b[39mwraps(func)\n\u001b[0;32m     94\u001b[0m \u001b[39mdef\u001b[39;00m \u001b[39mwrapper\u001b[39m(\u001b[39m*\u001b[39margs, \u001b[39m*\u001b[39m\u001b[39m*\u001b[39mkwargs):\n\u001b[0;32m     95\u001b[0m     \u001b[39mwith\u001b[39;00m pandas_converters():\n\u001b[1;32m---> 96\u001b[0m         \u001b[39mreturn\u001b[39;00m func(\u001b[39m*\u001b[39;49margs, \u001b[39m*\u001b[39;49m\u001b[39m*\u001b[39;49mkwargs)\n",
      "File \u001b[1;32mc:\\Users\\ferna\\.conda\\envs\\bigdata-38\\lib\\site-packages\\pandas\\plotting\\_matplotlib\\core.py:885\u001b[0m, in \u001b[0;36mMPLPlot._plot\u001b[1;34m(cls, ax, x, y, style, is_errorbar, **kwds)\u001b[0m\n\u001b[0;32m    882\u001b[0m \u001b[39melse\u001b[39;00m:\n\u001b[0;32m    883\u001b[0m     \u001b[39m# prevent style kwarg from going to errorbar, where it is unsupported\u001b[39;00m\n\u001b[0;32m    884\u001b[0m     args \u001b[39m=\u001b[39m (x, y, style) \u001b[39mif\u001b[39;00m style \u001b[39mis\u001b[39;00m \u001b[39mnot\u001b[39;00m \u001b[39mNone\u001b[39;00m \u001b[39melse\u001b[39;00m (x, y)\n\u001b[1;32m--> 885\u001b[0m     \u001b[39mreturn\u001b[39;00m ax\u001b[39m.\u001b[39;49mplot(\u001b[39m*\u001b[39;49margs, \u001b[39m*\u001b[39;49m\u001b[39m*\u001b[39;49mkwds)\n",
      "File \u001b[1;32mc:\\Users\\ferna\\.conda\\envs\\bigdata-38\\lib\\site-packages\\matplotlib\\axes\\_axes.py:1688\u001b[0m, in \u001b[0;36mAxes.plot\u001b[1;34m(self, scalex, scaley, data, *args, **kwargs)\u001b[0m\n\u001b[0;32m   1445\u001b[0m \u001b[39m\u001b[39m\u001b[39m\"\"\"\u001b[39;00m\n\u001b[0;32m   1446\u001b[0m \u001b[39mPlot y versus x as lines and/or markers.\u001b[39;00m\n\u001b[0;32m   1447\u001b[0m \n\u001b[1;32m   (...)\u001b[0m\n\u001b[0;32m   1685\u001b[0m \u001b[39m(``'green'``) or hex strings (``'#008000'``).\u001b[39;00m\n\u001b[0;32m   1686\u001b[0m \u001b[39m\"\"\"\u001b[39;00m\n\u001b[0;32m   1687\u001b[0m kwargs \u001b[39m=\u001b[39m cbook\u001b[39m.\u001b[39mnormalize_kwargs(kwargs, mlines\u001b[39m.\u001b[39mLine2D)\n\u001b[1;32m-> 1688\u001b[0m lines \u001b[39m=\u001b[39m [\u001b[39m*\u001b[39m\u001b[39mself\u001b[39m\u001b[39m.\u001b[39m_get_lines(\u001b[39m*\u001b[39margs, data\u001b[39m=\u001b[39mdata, \u001b[39m*\u001b[39m\u001b[39m*\u001b[39mkwargs)]\n\u001b[0;32m   1689\u001b[0m \u001b[39mfor\u001b[39;00m line \u001b[39min\u001b[39;00m lines:\n\u001b[0;32m   1690\u001b[0m     \u001b[39mself\u001b[39m\u001b[39m.\u001b[39madd_line(line)\n",
      "File \u001b[1;32mc:\\Users\\ferna\\.conda\\envs\\bigdata-38\\lib\\site-packages\\matplotlib\\axes\\_base.py:311\u001b[0m, in \u001b[0;36m_process_plot_var_args.__call__\u001b[1;34m(self, data, *args, **kwargs)\u001b[0m\n\u001b[0;32m    309\u001b[0m     this \u001b[39m+\u001b[39m\u001b[39m=\u001b[39m args[\u001b[39m0\u001b[39m],\n\u001b[0;32m    310\u001b[0m     args \u001b[39m=\u001b[39m args[\u001b[39m1\u001b[39m:]\n\u001b[1;32m--> 311\u001b[0m \u001b[39myield from\u001b[39;00m \u001b[39mself\u001b[39;49m\u001b[39m.\u001b[39;49m_plot_args(\n\u001b[0;32m    312\u001b[0m     this, kwargs, ambiguous_fmt_datakey\u001b[39m=\u001b[39;49mambiguous_fmt_datakey)\n",
      "File \u001b[1;32mc:\\Users\\ferna\\.conda\\envs\\bigdata-38\\lib\\site-packages\\matplotlib\\axes\\_base.py:544\u001b[0m, in \u001b[0;36m_process_plot_var_args._plot_args\u001b[1;34m(self, tup, kwargs, return_kwargs, ambiguous_fmt_datakey)\u001b[0m\n\u001b[0;32m    542\u001b[0m     \u001b[39mreturn\u001b[39;00m \u001b[39mlist\u001b[39m(result)\n\u001b[0;32m    543\u001b[0m \u001b[39melse\u001b[39;00m:\n\u001b[1;32m--> 544\u001b[0m     \u001b[39mreturn\u001b[39;00m [l[\u001b[39m0\u001b[39m] \u001b[39mfor\u001b[39;00m l \u001b[39min\u001b[39;00m result]\n",
      "File \u001b[1;32mc:\\Users\\ferna\\.conda\\envs\\bigdata-38\\lib\\site-packages\\matplotlib\\axes\\_base.py:544\u001b[0m, in \u001b[0;36m<listcomp>\u001b[1;34m(.0)\u001b[0m\n\u001b[0;32m    542\u001b[0m     \u001b[39mreturn\u001b[39;00m \u001b[39mlist\u001b[39m(result)\n\u001b[0;32m    543\u001b[0m \u001b[39melse\u001b[39;00m:\n\u001b[1;32m--> 544\u001b[0m     \u001b[39mreturn\u001b[39;00m [l[\u001b[39m0\u001b[39m] \u001b[39mfor\u001b[39;00m l \u001b[39min\u001b[39;00m result]\n",
      "File \u001b[1;32mc:\\Users\\ferna\\.conda\\envs\\bigdata-38\\lib\\site-packages\\matplotlib\\axes\\_base.py:537\u001b[0m, in \u001b[0;36m<genexpr>\u001b[1;34m(.0)\u001b[0m\n\u001b[0;32m    534\u001b[0m \u001b[39melse\u001b[39;00m:\n\u001b[0;32m    535\u001b[0m     labels \u001b[39m=\u001b[39m [label] \u001b[39m*\u001b[39m n_datasets\n\u001b[1;32m--> 537\u001b[0m result \u001b[39m=\u001b[39m (make_artist(x[:, j \u001b[39m%\u001b[39;49m ncx], y[:, j \u001b[39m%\u001b[39;49m ncy], kw,\n\u001b[0;32m    538\u001b[0m                       {\u001b[39m*\u001b[39;49m\u001b[39m*\u001b[39;49mkwargs, \u001b[39m'\u001b[39;49m\u001b[39mlabel\u001b[39;49m\u001b[39m'\u001b[39;49m: label})\n\u001b[0;32m    539\u001b[0m           \u001b[39mfor\u001b[39;00m j, label \u001b[39min\u001b[39;00m \u001b[39menumerate\u001b[39m(labels))\n\u001b[0;32m    541\u001b[0m \u001b[39mif\u001b[39;00m return_kwargs:\n\u001b[0;32m    542\u001b[0m     \u001b[39mreturn\u001b[39;00m \u001b[39mlist\u001b[39m(result)\n",
      "File \u001b[1;32mc:\\Users\\ferna\\.conda\\envs\\bigdata-38\\lib\\site-packages\\matplotlib\\axes\\_base.py:351\u001b[0m, in \u001b[0;36m_process_plot_var_args._makeline\u001b[1;34m(self, x, y, kw, kwargs)\u001b[0m\n\u001b[0;32m    349\u001b[0m default_dict \u001b[39m=\u001b[39m \u001b[39mself\u001b[39m\u001b[39m.\u001b[39m_getdefaults(\u001b[39mset\u001b[39m(), kw)\n\u001b[0;32m    350\u001b[0m \u001b[39mself\u001b[39m\u001b[39m.\u001b[39m_setdefaults(default_dict, kw)\n\u001b[1;32m--> 351\u001b[0m seg \u001b[39m=\u001b[39m mlines\u001b[39m.\u001b[39;49mLine2D(x, y, \u001b[39m*\u001b[39;49m\u001b[39m*\u001b[39;49mkw)\n\u001b[0;32m    352\u001b[0m \u001b[39mreturn\u001b[39;00m seg, kw\n",
      "File \u001b[1;32mc:\\Users\\ferna\\.conda\\envs\\bigdata-38\\lib\\site-packages\\matplotlib\\_api\\deprecation.py:454\u001b[0m, in \u001b[0;36mmake_keyword_only.<locals>.wrapper\u001b[1;34m(*args, **kwargs)\u001b[0m\n\u001b[0;32m    448\u001b[0m \u001b[39mif\u001b[39;00m \u001b[39mlen\u001b[39m(args) \u001b[39m>\u001b[39m name_idx:\n\u001b[0;32m    449\u001b[0m     warn_deprecated(\n\u001b[0;32m    450\u001b[0m         since, message\u001b[39m=\u001b[39m\u001b[39m\"\u001b[39m\u001b[39mPassing the \u001b[39m\u001b[39m%(name)s\u001b[39;00m\u001b[39m \u001b[39m\u001b[39m%(obj_type)s\u001b[39;00m\u001b[39m \u001b[39m\u001b[39m\"\u001b[39m\n\u001b[0;32m    451\u001b[0m         \u001b[39m\"\u001b[39m\u001b[39mpositionally is deprecated since Matplotlib \u001b[39m\u001b[39m%(since)s\u001b[39;00m\u001b[39m; the \u001b[39m\u001b[39m\"\u001b[39m\n\u001b[0;32m    452\u001b[0m         \u001b[39m\"\u001b[39m\u001b[39mparameter will become keyword-only \u001b[39m\u001b[39m%(removal)s\u001b[39;00m\u001b[39m.\u001b[39m\u001b[39m\"\u001b[39m,\n\u001b[0;32m    453\u001b[0m         name\u001b[39m=\u001b[39mname, obj_type\u001b[39m=\u001b[39m\u001b[39mf\u001b[39m\u001b[39m\"\u001b[39m\u001b[39mparameter of \u001b[39m\u001b[39m{\u001b[39;00mfunc\u001b[39m.\u001b[39m\u001b[39m__name__\u001b[39m\u001b[39m}\u001b[39;00m\u001b[39m()\u001b[39m\u001b[39m\"\u001b[39m)\n\u001b[1;32m--> 454\u001b[0m \u001b[39mreturn\u001b[39;00m func(\u001b[39m*\u001b[39;49margs, \u001b[39m*\u001b[39;49m\u001b[39m*\u001b[39;49mkwargs)\n",
      "File \u001b[1;32mc:\\Users\\ferna\\.conda\\envs\\bigdata-38\\lib\\site-packages\\matplotlib\\lines.py:395\u001b[0m, in \u001b[0;36mLine2D.__init__\u001b[1;34m(self, xdata, ydata, linewidth, linestyle, color, gapcolor, marker, markersize, markeredgewidth, markeredgecolor, markerfacecolor, markerfacecoloralt, fillstyle, antialiased, dash_capstyle, solid_capstyle, dash_joinstyle, solid_joinstyle, pickradius, drawstyle, markevery, **kwargs)\u001b[0m\n\u001b[0;32m    391\u001b[0m \u001b[39mself\u001b[39m\u001b[39m.\u001b[39mset_markeredgewidth(markeredgewidth)\n\u001b[0;32m    393\u001b[0m \u001b[39m# update kwargs before updating data to give the caller a\u001b[39;00m\n\u001b[0;32m    394\u001b[0m \u001b[39m# chance to init axes (and hence unit support)\u001b[39;00m\n\u001b[1;32m--> 395\u001b[0m \u001b[39mself\u001b[39;49m\u001b[39m.\u001b[39;49m_internal_update(kwargs)\n\u001b[0;32m    396\u001b[0m \u001b[39mself\u001b[39m\u001b[39m.\u001b[39m_pickradius \u001b[39m=\u001b[39m pickradius\n\u001b[0;32m    397\u001b[0m \u001b[39mself\u001b[39m\u001b[39m.\u001b[39mind_offset \u001b[39m=\u001b[39m \u001b[39m0\u001b[39m\n",
      "File \u001b[1;32mc:\\Users\\ferna\\.conda\\envs\\bigdata-38\\lib\\site-packages\\matplotlib\\artist.py:1223\u001b[0m, in \u001b[0;36mArtist._internal_update\u001b[1;34m(self, kwargs)\u001b[0m\n\u001b[0;32m   1216\u001b[0m \u001b[39mdef\u001b[39;00m \u001b[39m_internal_update\u001b[39m(\u001b[39mself\u001b[39m, kwargs):\n\u001b[0;32m   1217\u001b[0m \u001b[39m    \u001b[39m\u001b[39m\"\"\"\u001b[39;00m\n\u001b[0;32m   1218\u001b[0m \u001b[39m    Update artist properties without prenormalizing them, but generating\u001b[39;00m\n\u001b[0;32m   1219\u001b[0m \u001b[39m    errors as if calling `set`.\u001b[39;00m\n\u001b[0;32m   1220\u001b[0m \n\u001b[0;32m   1221\u001b[0m \u001b[39m    The lack of prenormalization is to maintain backcompatibility.\u001b[39;00m\n\u001b[0;32m   1222\u001b[0m \u001b[39m    \"\"\"\u001b[39;00m\n\u001b[1;32m-> 1223\u001b[0m     \u001b[39mreturn\u001b[39;00m \u001b[39mself\u001b[39;49m\u001b[39m.\u001b[39;49m_update_props(\n\u001b[0;32m   1224\u001b[0m         kwargs, \u001b[39m\"\u001b[39;49m\u001b[39m{cls.__name__}\u001b[39;49;00m\u001b[39m.set() got an unexpected keyword argument \u001b[39;49m\u001b[39m\"\u001b[39;49m\n\u001b[0;32m   1225\u001b[0m         \u001b[39m\"\u001b[39;49m\u001b[39m{prop_name!r}\u001b[39;49;00m\u001b[39m\"\u001b[39;49m)\n",
      "File \u001b[1;32mc:\\Users\\ferna\\.conda\\envs\\bigdata-38\\lib\\site-packages\\matplotlib\\artist.py:1197\u001b[0m, in \u001b[0;36mArtist._update_props\u001b[1;34m(self, props, errfmt)\u001b[0m\n\u001b[0;32m   1195\u001b[0m             func \u001b[39m=\u001b[39m \u001b[39mgetattr\u001b[39m(\u001b[39mself\u001b[39m, \u001b[39mf\u001b[39m\u001b[39m\"\u001b[39m\u001b[39mset_\u001b[39m\u001b[39m{\u001b[39;00mk\u001b[39m}\u001b[39;00m\u001b[39m\"\u001b[39m, \u001b[39mNone\u001b[39;00m)\n\u001b[0;32m   1196\u001b[0m             \u001b[39mif\u001b[39;00m \u001b[39mnot\u001b[39;00m \u001b[39mcallable\u001b[39m(func):\n\u001b[1;32m-> 1197\u001b[0m                 \u001b[39mraise\u001b[39;00m \u001b[39mAttributeError\u001b[39;00m(\n\u001b[0;32m   1198\u001b[0m                     errfmt\u001b[39m.\u001b[39mformat(\u001b[39mcls\u001b[39m\u001b[39m=\u001b[39m\u001b[39mtype\u001b[39m(\u001b[39mself\u001b[39m), prop_name\u001b[39m=\u001b[39mk))\n\u001b[0;32m   1199\u001b[0m             ret\u001b[39m.\u001b[39mappend(func(v))\n\u001b[0;32m   1200\u001b[0m \u001b[39mif\u001b[39;00m ret:\n",
      "\u001b[1;31mAttributeError\u001b[0m: Line2D.set() got an unexpected keyword argument 'sort_columns'"
     ]
    },
    {
     "name": "stderr",
     "output_type": "stream",
     "text": [
      "c:\\Users\\ferna\\.conda\\envs\\bigdata-38\\lib\\site-packages\\matplotlib\\transforms.py:2665: RuntimeWarning: divide by zero encountered in scalar divide\n",
      "  x_scale = 1.0 / inw\n",
      "c:\\Users\\ferna\\.conda\\envs\\bigdata-38\\lib\\site-packages\\matplotlib\\transforms.py:2667: RuntimeWarning: invalid value encountered in scalar multiply\n",
      "  self._mtx = np.array([[x_scale, 0.0    , (-inl*x_scale)],\n",
      "posx and posy should be finite values\n",
      "posx and posy should be finite values\n",
      "posx and posy should be finite values\n",
      "posx and posy should be finite values\n",
      "posx and posy should be finite values\n",
      "posx and posy should be finite values\n",
      "posx and posy should be finite values\n",
      "posx and posy should be finite values\n",
      "posx and posy should be finite values\n",
      "posx and posy should be finite values\n",
      "posx and posy should be finite values\n",
      "posx and posy should be finite values\n",
      "posx and posy should be finite values\n",
      "posx and posy should be finite values\n",
      "posx and posy should be finite values\n",
      "posx and posy should be finite values\n",
      "posx and posy should be finite values\n",
      "posx and posy should be finite values\n",
      "posx and posy should be finite values\n",
      "posx and posy should be finite values\n",
      "posx and posy should be finite values\n"
     ]
    },
    {
     "data": {
      "image/png": "[encoded data removed]",
      "text/plain": [
       "<Figure size 640x480 with 1 Axes>"
      ]
     },
     "metadata": {},
     "output_type": "display_data"
    }
   ],
   "source": [
    "kdf = ks.DataFrame({\n",
    "    'sales': [3, 2, 3, 9, 10, 6, 3],\n",
    "    'signups': [5, 5, 6, 12, 14, 13, 9],\n",
    "    'visits': [20, 42, 28, 62, 81, 50, 90],\n",
    "}, index=pd.date_range(start='2019/08/15', end='2020/03/09',\n",
    "                       freq='M'))\n",
    "ks.options.plotting.backend = \"matplotlib\"\n",
    "## Genera un grafico de areas con kdf y matplotlib\n"
   ]
  },
  {
   "cell_type": "markdown",
   "metadata": {},
   "source": [
    "### Utilizando SQL en Koalas"
   ]
  },
  {
   "cell_type": "code",
   "execution_count": 34,
   "metadata": {
    "scrolled": false
   },
   "outputs": [],
   "source": [
    "\"\"\"\n",
    "\n",
    "NOTA PARA EL PROFESOR. \n",
    "\n",
    "Koalas fue deprecado para la version 3.2 de Pyspark, https://spark.apache.org/docs/latest/api/python/migration_guide/koalas_to_pyspark.html\n",
    "Revisando la guia se sugiere que se utilice pyspark.pandas en vez de databricks.koalas. Es fue el metodo que utilice para evitar instalar \n",
    "una version menor de Spark en mi sistema. Sin embargo, funciones simples disponibles en koalas no estan disponibles para pyspark.pandas, como \n",
    "filtros por medio de SQL por ende tuve que utilizar lambda y assign.\n",
    "\n",
    "\"\"\"\n",
    "\n",
    "\n",
    "kdf = ks.DataFrame({'year': [1990, 1997, 2003, 2009, 2014],\n",
    "                    'pig': [20, 18, 489, 675, 1776],\n",
    "                    'horse': [4, 25, 281, 600, 1900]})"
   ]
  },
  {
   "cell_type": "code",
   "execution_count": 42,
   "metadata": {},
   "outputs": [
    {
     "data": {
      "text/html": [
       "<div>\n",
       "<style scoped>\n",
       "    .dataframe tbody tr th:only-of-type {\n",
       "        vertical-align: middle;\n",
       "    }\n",
       "\n",
       "    .dataframe tbody tr th {\n",
       "        vertical-align: top;\n",
       "    }\n",
       "\n",
       "    .dataframe thead th {\n",
       "        text-align: right;\n",
       "    }\n",
       "</style>\n",
       "<table border=\"1\" class=\"dataframe\">\n",
       "  <thead>\n",
       "    <tr style=\"text-align: right;\">\n",
       "      <th></th>\n",
       "      <th>year</th>\n",
       "      <th>pig</th>\n",
       "      <th>horse</th>\n",
       "    </tr>\n",
       "  </thead>\n",
       "  <tbody>\n",
       "    <tr>\n",
       "      <th>2</th>\n",
       "      <td>2003</td>\n",
       "      <td>489</td>\n",
       "      <td>281</td>\n",
       "    </tr>\n",
       "    <tr>\n",
       "      <th>3</th>\n",
       "      <td>2009</td>\n",
       "      <td>675</td>\n",
       "      <td>600</td>\n",
       "    </tr>\n",
       "    <tr>\n",
       "      <th>4</th>\n",
       "      <td>2014</td>\n",
       "      <td>1776</td>\n",
       "      <td>1900</td>\n",
       "    </tr>\n",
       "  </tbody>\n",
       "</table>\n",
       "</div>"
      ],
      "text/plain": [
       "   year   pig  horse\n",
       "2  2003   489    281\n",
       "3  2009   675    600\n",
       "4  2014  1776   1900"
      ]
     },
     "execution_count": 42,
     "metadata": {},
     "output_type": "execute_result"
    }
   ],
   "source": [
    "## Con una consulta SQL selecciona los datos donde pig sea mayor que 100\n",
    "kdf[kdf['pig'] > 100]\n"
   ]
  },
  {
   "cell_type": "code",
   "execution_count": 43,
   "metadata": {},
   "outputs": [],
   "source": [
    "pdf = pd.DataFrame({'year': [1990, 1997, 2003, 2009, 2014],\n",
    "                    'sheep': [22, 50, 121, 445, 791],\n",
    "                    'chicken': [250, 326, 589, 1241, 2118]})"
   ]
  },
  {
   "cell_type": "code",
   "execution_count": 125,
   "metadata": {
    "scrolled": true
   },
   "outputs": [],
   "source": [
    "## Haz un inner join entre kdf y pdf en la vriable year, selecciona el pig y el chicken\n",
    "## ordena los datos por pig y chicken\n",
    "\"\"\"\n",
    "INNER JOIN NO ES POSIBLE CON PYSPARK.PANDAS\n",
    "\"\"\"\n",
    "\n"
   ]
  },
  {
   "cell_type": "markdown",
   "metadata": {},
   "source": [
    "### Trabajando con PySpark"
   ]
  },
  {
   "cell_type": "code",
   "execution_count": 45,
   "metadata": {
    "scrolled": true
   },
   "outputs": [
    {
     "data": {
      "text/plain": [
       "pyspark.pandas.frame.DataFrame"
      ]
     },
     "execution_count": 45,
     "metadata": {},
     "output_type": "execute_result"
    }
   ],
   "source": [
    "kdf = ks.DataFrame({'A': [1, 2, 3, 4, 5], 'B': [10, 20, 30, 40, 50]})\n",
    "\n",
    "## Convierete el dataframe de Koalas a Dataframe de Spark\n",
    "type(kdf)"
   ]
  },
  {
   "cell_type": "code",
   "execution_count": 46,
   "metadata": {},
   "outputs": [
    {
     "data": {
      "text/html": [
       "<div>\n",
       "<style scoped>\n",
       "    .dataframe tbody tr th:only-of-type {\n",
       "        vertical-align: middle;\n",
       "    }\n",
       "\n",
       "    .dataframe tbody tr th {\n",
       "        vertical-align: top;\n",
       "    }\n",
       "\n",
       "    .dataframe thead th {\n",
       "        text-align: right;\n",
       "    }\n",
       "</style>\n",
       "<table border=\"1\" class=\"dataframe\">\n",
       "  <thead>\n",
       "    <tr style=\"text-align: right;\">\n",
       "      <th></th>\n",
       "      <th>A</th>\n",
       "      <th>B</th>\n",
       "    </tr>\n",
       "  </thead>\n",
       "  <tbody>\n",
       "    <tr>\n",
       "      <th>0</th>\n",
       "      <td>1</td>\n",
       "      <td>10</td>\n",
       "    </tr>\n",
       "    <tr>\n",
       "      <th>1</th>\n",
       "      <td>2</td>\n",
       "      <td>20</td>\n",
       "    </tr>\n",
       "    <tr>\n",
       "      <th>2</th>\n",
       "      <td>3</td>\n",
       "      <td>30</td>\n",
       "    </tr>\n",
       "    <tr>\n",
       "      <th>3</th>\n",
       "      <td>4</td>\n",
       "      <td>40</td>\n",
       "    </tr>\n",
       "    <tr>\n",
       "      <th>4</th>\n",
       "      <td>5</td>\n",
       "      <td>50</td>\n",
       "    </tr>\n",
       "  </tbody>\n",
       "</table>\n",
       "</div>"
      ],
      "text/plain": [
       "   A   B\n",
       "0  1  10\n",
       "1  2  20\n",
       "2  3  30\n",
       "3  4  40\n",
       "4  5  50"
      ]
     },
     "execution_count": 46,
     "metadata": {},
     "output_type": "execute_result"
    }
   ],
   "source": [
    "## muestra los datos\n",
    "kdf"
   ]
  },
  {
   "cell_type": "code",
   "execution_count": null,
   "metadata": {},
   "outputs": [],
   "source": []
  }
 ],
 "metadata": {
  "kernelspec": {
   "display_name": "Python 3 (ipykernel)",
   "language": "python",
   "name": "python3"
  },
  "language_info": {
   "codemirror_mode": {
    "name": "ipython",
    "version": 3
   },
   "file_extension": ".py",
   "mimetype": "text/x-python",
   "name": "python",
   "nbconvert_exporter": "python",
   "pygments_lexer": "ipython3",
   "version": "3.8.18"
  }
 },
 "nbformat": 4,
 "nbformat_minor": 2
}
