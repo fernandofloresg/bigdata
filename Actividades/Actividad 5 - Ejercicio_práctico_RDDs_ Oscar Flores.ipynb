{
 "cells": [
  {
   "cell_type": "markdown",
   "id": "22bc4d93",
   "metadata": {},
   "source": [
    "# Ejercicio Práctico RDDs"
   ]
  },
  {
   "cell_type": "code",
   "execution_count": 1,
   "id": "c1a214d6",
   "metadata": {},
   "outputs": [],
   "source": [
    "import findspark\n",
    "findspark.init()\n",
    "\n",
    "import pandas as pd\n",
    "import pyspark\n",
    "from pyspark.sql import SparkSession"
   ]
  },
  {
   "cell_type": "code",
   "execution_count": 2,
   "id": "bd8b0d7c",
   "metadata": {},
   "outputs": [],
   "source": [
    "spark = SparkSession.builder.getOrCreate()\n",
    "sc = spark.sparkContext"
   ]
  },
  {
   "cell_type": "code",
   "execution_count": 3,
   "id": "1479e36b",
   "metadata": {},
   "outputs": [],
   "source": [
    "## Genera un RDD (newRDD) con la siguiente lista [1, 2, 3, 4, 5]\n",
    "newRDD = sc.parallelize([1, 2, 3, 4, 5])\n"
   ]
  },
  {
   "cell_type": "code",
   "execution_count": 4,
   "id": "9bc25ae9",
   "metadata": {},
   "outputs": [
    {
     "name": "stdout",
     "output_type": "stream",
     "text": [
      "[2, 4, 6, 8, 10]\n"
     ]
    }
   ],
   "source": [
    "## Multiplica por 2 todos los elementos del RDD anterior\n",
    "rdd_multiplicado = newRDD.map(lambda x: x * 2)\n",
    "print(rdd_multiplicado.collect())"
   ]
  },
  {
   "cell_type": "code",
   "execution_count": 5,
   "id": "a047081a",
   "metadata": {},
   "outputs": [
    {
     "name": "stdout",
     "output_type": "stream",
     "text": [
      "[2, 4, 6]\n"
     ]
    }
   ],
   "source": [
    "data = [1, 2, 3, 4, 5, 6]\n",
    "\n",
    "myRDD = sc.parallelize(data)\n",
    "\n",
    "## Filtra el RDD anterior por los elementos pares\n",
    "\n",
    "rdd_filtrado = myRDD.filter(lambda x: x % 2 == 0)\n",
    "print(rdd_filtrado.collect())\n"
   ]
  },
  {
   "cell_type": "code",
   "execution_count": 18,
   "id": "aeb368f0",
   "metadata": {},
   "outputs": [
    {
     "name": "stdout",
     "output_type": "stream",
     "text": [
      "[1, 2, 3]\n"
     ]
    }
   ],
   "source": [
    "## Muestra los elementos unicos del RDD\n",
    "\n",
    "RDD = sc.parallelize([1, 1, 1, 2, 3])\n",
    "\n",
    "elementos_unicos = RDD.distinct()\n",
    "\n",
    "print(elementos_unicos.collect())\n",
    "\n"
   ]
  },
  {
   "cell_type": "code",
   "execution_count": 29,
   "id": "787c7986",
   "metadata": {},
   "outputs": [
    {
     "name": "stdout",
     "output_type": "stream",
     "text": [
      "[('a', 6), ('b', 1)]\n"
     ]
    }
   ],
   "source": [
    "from operator import add\n",
    "\n",
    "myRDD = sc.parallelize([('a', 1), ('a', 2), ('a', 3), ('b', 1)])\n",
    "\n",
    "## Obten la suma de los valores agrupados por el key\n",
    "\n",
    "RDD_suma = myRDD.reduceByKey(lambda x,y: x+y)\n",
    "\n",
    "print(RDD_suma.collect())"
   ]
  },
  {
   "cell_type": "code",
   "execution_count": 22,
   "id": "5133d6f2",
   "metadata": {},
   "outputs": [
    {
     "name": "stdout",
     "output_type": "stream",
     "text": [
      "[1, 1, 1, 2, 3, 3, 3, 4, 5, 9, 12]\n"
     ]
    }
   ],
   "source": [
    "## Ordena los RDDs en base al key\n",
    "\n",
    "RDD_O = sc.parallelize([1, 1, 1, 2, 3, 5, 4, 3, 9, 12, 3])\n",
    "\n",
    "rdd_ordenado = RDD_O.sortBy(lambda x: x)\n",
    "\n",
    "print(rdd_ordenado.collect())\n"
   ]
  },
  {
   "cell_type": "code",
   "execution_count": 24,
   "id": "bfe2d705",
   "metadata": {},
   "outputs": [
    {
     "name": "stdout",
     "output_type": "stream",
     "text": [
      "[1, 4, 9, 16, 25]\n"
     ]
    }
   ],
   "source": [
    "data= [1, 2, 3, 4, 5]\n",
    "\n",
    "myRDD= sc.parallelize(data)\n",
    "## Toma los elementos del RDD para multiplicarlos entre si y obtener un resultado\n",
    "\n",
    "RDD_mul = myRDD.map(lambda x: x * x)\n",
    "\n",
    "print(RDD_mul.collect())"
   ]
  },
  {
   "cell_type": "code",
   "execution_count": 31,
   "id": "b6139be0",
   "metadata": {},
   "outputs": [
    {
     "name": "stdout",
     "output_type": "stream",
     "text": [
      "[('Java', 1), ('R', 2), ('Scala', 1), ('Python', 3)]\n"
     ]
    }
   ],
   "source": [
    "data= ['Python', 'Scala', 'Python', 'R', 'Python', 'Java', 'R' ]\n",
    "\n",
    "myRDD= sc.parallelize(data)\n",
    "\n",
    "RDD_aux = myRDD.map(lambda x: (x,1))\n",
    "RDD_conteo = RDD_aux.reduceByKey(lambda x,y: x+y)\n",
    "\n",
    "print(RDD_conteo.collect())\n",
    "\n",
    "## Cuenta cuantas veces aparece cada valor"
   ]
  },
  {
   "cell_type": "code",
   "execution_count": 32,
   "id": "633f7716",
   "metadata": {},
   "outputs": [
    {
     "name": "stdout",
     "output_type": "stream",
     "text": [
      "[('a', 2), ('b', 1), ('c', 1)]\n"
     ]
    }
   ],
   "source": [
    "data= [('a', 1), ('b', 1), ('c', 1), ('a', 1)]\n",
    "myRDD = sc.parallelize(data)\n",
    "\n",
    "RDD_rep = myRDD.reduceByKey(lambda x,y: x+y)\n",
    "\n",
    "print(RDD_rep.collect())\n",
    "\n",
    "## Cuenta cuantas veces aparece cada una de las keys"
   ]
  },
  {
   "cell_type": "code",
   "execution_count": null,
   "id": "f0cea10a",
   "metadata": {},
   "outputs": [],
   "source": []
  }
 ],
 "metadata": {
  "kernelspec": {
   "display_name": "Python 3 (ipykernel)",
   "language": "python",
   "name": "python3"
  },
  "language_info": {
   "codemirror_mode": {
    "name": "ipython",
    "version": 3
   },
   "file_extension": ".py",
   "mimetype": "text/x-python",
   "name": "python",
   "nbconvert_exporter": "python",
   "pygments_lexer": "ipython3",
   "version": "3.10.13"
  }
 },
 "nbformat": 4,
 "nbformat_minor": 5
}
